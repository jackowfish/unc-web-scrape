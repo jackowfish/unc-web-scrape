{
 "metadata": {
  "language_info": {
   "codemirror_mode": {
    "name": "ipython",
    "version": 3
   },
   "file_extension": ".py",
   "mimetype": "text/x-python",
   "name": "python",
   "nbconvert_exporter": "python",
   "pygments_lexer": "ipython3",
   "version": "3.9.1"
  },
  "orig_nbformat": 2,
  "kernelspec": {
   "name": "python391jvsc74a57bd0aee8b7b246df8f9039afb4144a1f6fd8d2ca17a180786b69acc140d282b71a49",
   "display_name": "Python 3.9.1 64-bit"
  },
  "metadata": {
   "interpreter": {
    "hash": "aee8b7b246df8f9039afb4144a1f6fd8d2ca17a180786b69acc140d282b71a49"
   }
  }
 },
 "nbformat": 4,
 "nbformat_minor": 2,
 "cells": [
  {
   "cell_type": "code",
   "execution_count": 21,
   "metadata": {},
   "outputs": [
    {
     "output_type": "stream",
     "name": "stdout",
     "text": [
      "['Aerospace Studies Minor', 'African American and Diaspora Studies Minor', 'African Studies Minor', 'American Indian and Indigenous Studies Minor', 'American Studies Minor', 'Anthropology (General) Minor', 'Applied Sciences and Engineering Minor', 'Arabic Minor', 'Archaeology Minor', 'Art History Minor', 'Asian Studies Minor', 'Astronomy Minor', 'Biology Minor', 'Business Administration Minor', 'Chemistry Minor', 'Chinese Minor', 'Classical Humanities Minor', 'Coaching Education Minor', 'Cognitive Science Minor', 'Comparative Literature Minor', 'Composition, Rhetoric, and Digital Literacy Minor', 'Computer Science Minor', 'Conflict Management Minor', 'Creative Writing Minor', 'Dramatic Art Minor', 'Education Minor', 'English Minor', 'Entrepreneurship Minor', 'Environmental Justice Minor', 'Environmental Science and Studies Minor', 'Exercise and Sport Science Minor', 'Folklore Minor', 'Food Studies Minor', 'French Minor', 'Geographic Information Sciences Minor', 'Geography Minor', 'Geological Sciences Minor', 'German Minor', 'Global American Studies Minor', 'Global Cinema Minor', 'Greek Minor', 'Health and Society Minor', 'Heritage and Global Engagement Minor', 'Hindi-Urdu Minor', 'Hispanic Studies Minor', 'History Minor', 'Information Systems Minor', 'Islamic and Middle Eastern Studies Minor', 'Italian Minor', 'Japanese Minor', 'Jewish Studies Minor', 'Korean Minor', 'Latin Minor', 'Latina/o Studies Minor', 'Linguistics Minor', 'Marine Sciences Minor', 'Mathematics Minor', 'Media and Journalism Minor', 'Medical Anthropology Minor', 'Medicine, Literature, and Culture Minor', 'Medieval and Early Modern Studies (MEMS) Minor', 'Middle Eastern Languages Minor', 'Military Science and Leadership Minor', 'Modern Hebrew Minor', 'Music Minor', 'Naval Science Minor', 'Neuroscience Minor', 'Persian Minor', 'Philosophy Minor', 'Philosophy, Politics, and Economics (PPE) Minor', 'Physics Minor', 'Portuguese Minor', 'Public Policy Minor', 'Religious Studies Minor', 'Russian Culture Minor', 'Sexuality Studies Minor', 'Slavic and East European Languages and Cultures Minor', 'Social and Economic Justice Minor', 'Southern Studies Minor', 'Spanish Minor for the Professions', 'Speech and Hearing Sciences Minor', 'Statistics and Analytics Minor', 'Studio Art Minor', 'Study of Christianity and Culture Minor', 'Sustainability Studies Minor', 'Translation and Interpreting Minor', 'Urban Studies and Planning Minor', 'Women’s and Gender Studies Minor', 'Writing for the Screen and Stage Minor']\n"
     ]
    }
   ],
   "source": [
    "from selenium import webdriver\n",
    "from selenium.webdriver.chrome.options import Options\n",
    "from selenium.webdriver.common.keys import Keys\n",
    "from selenium.webdriver.common.action_chains import ActionChains\n",
    "import pprint\n",
    "from time import sleep\n",
    "\n",
    "pp = pprint.PrettyPrinter(indent=4)\n",
    "\n",
    "options = Options()\n",
    "options.add_argument('--headless')\n",
    "driver = webdriver.Chrome('./chromedriver', options=options)\n",
    "\n",
    "driver.get('https://catalog.unc.edu/undergraduate/programs-study/')\n",
    "# Get list of programs\n",
    "program_list = driver.find_element_by_css_selector('#programsaztextcontainer > div')\n",
    "programs = program_list.find_elements_by_css_selector('ul > li > a')\n",
    "main_window = driver.current_window_handle\n",
    "# Loop through each program\n",
    "for program in programs:\n",
    "    program_title = program.get_attribute('innerHTML')\n",
    "    # Find if program is a minor\n",
    "    if 'Minor' in program_title:\n",
    "        titles.append(program_title)\n",
    "        # Get link to program\n",
    "        count += 1\n",
    "        program_link = program.get_attribute('href')\n",
    "        # Create new tab\n",
    "        ActionChains(driver) \\\n",
    "            .key_down(Keys.COMMAND) \\\n",
    "            .click(program) \\\n",
    "            .key_up(Keys.COMMAND) \\\n",
    "            .perform()\n",
    "        # Switch tabs\n",
    "        driver.switch_to.window(driver.window_handles[1])\n",
    "        # Go to requirements page\n",
    "        driver.get(f\"{program_link}#requirementstext\")\n",
    "\n",
    "        print(f\"Retrieved {program_title} requirements!\")\n",
    "        # Close tab\n",
    "        driver.close()\n",
    "        # Switch back to main window\n",
    "        driver.switch_to.window(main_window)"
   ]
  },
  {
   "cell_type": "code",
   "execution_count": null,
   "metadata": {},
   "outputs": [],
   "source": []
  }
 ]
}