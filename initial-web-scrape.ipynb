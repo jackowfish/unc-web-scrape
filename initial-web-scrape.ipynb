{
 "metadata": {
  "language_info": {
   "codemirror_mode": {
    "name": "ipython",
    "version": 3
   },
   "file_extension": ".py",
   "mimetype": "text/x-python",
   "name": "python",
   "nbconvert_exporter": "python",
   "pygments_lexer": "ipython3",
   "version": "3.9.1"
  },
  "orig_nbformat": 2,
  "kernelspec": {
   "name": "python391jvsc74a57bd0aee8b7b246df8f9039afb4144a1f6fd8d2ca17a180786b69acc140d282b71a49",
   "display_name": "Python 3.9.1 64-bit"
  },
  "metadata": {
   "interpreter": {
    "hash": "aee8b7b246df8f9039afb4144a1f6fd8d2ca17a180786b69acc140d282b71a49"
   }
  }
 },
 "nbformat": 4,
 "nbformat_minor": 2,
 "cells": [
  {
   "cell_type": "code",
   "execution_count": 50,
   "metadata": {
    "tags": []
   },
   "outputs": [
    {
     "output_type": "stream",
     "name": "stdout",
     "text": [
      "Successfully logged in!\n",
      "42 courses\n",
      "{'course': 'APPL 110', 'name': 'INTRO TO DESIGN AND MAKING', 'term': '2019 Spring', 'grade': 'A', 'credits': '3.00'}\n",
      "{'course': 'BUSI 102', 'name': 'FINANCIAL ACCOUNTING', 'term': '2019 Fall', 'grade': 'B', 'credits': '1.50'}\n",
      "{'course': 'COMP 110', 'name': 'INTRO PROGRAMMING', 'term': '2018 Fall', 'grade': 'A-', 'credits': '3.00'}\n",
      "{'course': 'COMP 283', 'name': 'DISCRETE STRUCTURES', 'term': '2019 Fall', 'grade': 'B+', 'credits': '3.00'}\n",
      "{'course': 'COMP 290', 'name': 'SPECIAL TOPICS IN COMPUTER SCI', 'term': '2020 Spring', 'grade': 'A', 'credits': '1.00'}\n",
      "{'course': 'COMP 401', 'name': \"FOUND'N OF PROGRAMG\", 'term': '2019 Spring', 'grade': 'B+', 'credits': '4.00'}\n",
      "{'course': 'COMP 410', 'name': 'DATA STRUCTURES', 'term': '2019 Fall', 'grade': 'B', 'credits': '3.00'}\n",
      "{'course': 'COMP 411', 'name': 'COMPUTER ORGANIZATN', 'term': '2020 Spring', 'grade': 'A', 'credits': '4.00'}\n",
      "{'course': 'COMP 426', 'name': 'MODERN WEB PROGRAMMING', 'term': '2020 Fall', 'grade': 'A-', 'credits': '3.00'}\n",
      "{'course': 'COMP 431', 'name': 'INTERNET SVCS &amp; PROTOCOL', 'term': '2021 Spring', 'grade': 'WCV', 'credits': '3.00'}\n",
      "{'course': 'COMP 455', 'name': 'MODELS: LANGS/COMPN', 'term': '2020 Fall', 'grade': 'A', 'credits': '3.00'}\n",
      "{'course': 'COMP 521', 'name': 'FILES AND DATABASES', 'term': '2020 Fall', 'grade': 'PS', 'credits': '3.00'}\n",
      "{'course': 'COMP 550', 'name': 'ALGRTHMS &amp; ANALYSIS', 'term': '2020 Fall', 'grade': 'PS', 'credits': '3.00'}\n",
      "{'course': 'COMP 590', 'name': 'TOPICS COMPUTER SCI', 'term': '2021 Spring', 'grade': 'A-', 'credits': '3.00'}\n",
      "{'course': 'ECON 101', 'name': 'ECON: INTRO', 'term': '2019 Summer I', 'grade': 'B+', 'credits': '3.00'}\n",
      "{'course': 'EDUC 190', 'name': 'SPECIAL TOPICS IN EDUCATION', 'term': '2018 Fall', 'grade': 'A', 'credits': '2.00'}\n",
      "{'course': 'ENEC 202', 'name': 'ENVIRONMENTAL SCIENCE', 'term': '2018 Fall', 'grade': 'BE', 'credits': '4.00'}\n",
      "{'course': 'ENGL 105', 'name': 'ENG COMP &amp; RHETORIC', 'term': '2018 Fall', 'grade': 'A', 'credits': '3.00'}\n",
      "{'course': 'ENGL 130', 'name': 'INTRO/FICTION WRIT', 'term': '2019 Fall', 'grade': 'A', 'credits': '3.00'}\n",
      "{'course': 'GEOL 101', 'name': 'PLANET EARTH', 'term': '2019 Spring', 'grade': 'B', 'credits': '3.00'}\n",
      "{'course': 'GEOL 101L', 'name': 'PLANET EARTH LAB', 'term': '2019 Spring', 'grade': 'A', 'credits': '1.00'}\n",
      "{'course': 'GSLL 55', 'name': 'FYS FANTASIES OF ROME', 'term': '2019 Spring', 'grade': 'B+', 'credits': '3.00'}\n",
      "{'course': 'HIST ----', 'name': 'HIST GENERAL ELECTIVE', 'term': '2018 Fall', 'grade': 'BE', 'credits': '3.00'}\n",
      "{'course': 'HIST 140', 'name': 'THE WORLD SINCE 1945', 'term': '2019 Fall', 'grade': 'A-', 'credits': '3.00'}\n",
      "{'course': 'LFIT 129', 'name': 'LIFETIME FITNESS: SKIING', 'term': '2018 Fall', 'grade': 'B', 'credits': '1.00'}\n",
      "{'course': 'MATH 110P', 'name': 'ALGEBRA', 'term': '2018 Fall', 'grade': 'BE', 'credits': '0.00'}\n",
      "{'course': 'MATH 129P', 'name': 'PRECALCULUS MATHEMATICS', 'term': '2018 Fall', 'grade': 'BE', 'credits': '0.00'}\n",
      "{'course': 'MATH 231', 'name': 'CALC FUNC ONE VAR I', 'term': '2018 Fall', 'grade': 'BE', 'credits': '4.00'}\n",
      "{'course': 'MATH 232', 'name': 'CAL FUNC ONE VAR II', 'term': '2018 Fall', 'grade': 'W', 'credits': '4.00'}\n",
      "{'course': 'MATH 232', 'name': 'CAL FUNC ONE VAR II', 'term': '2018 Fall', 'grade': 'BE', 'credits': '4.00'}\n",
      "{'course': 'MATH 233', 'name': 'MULTI VARI CALC I', 'term': '2020 Spring', 'grade': 'A', 'credits': '4.00'}\n",
      "{'course': 'MATH 547', 'name': 'LINEAR ALGEBRA FOR APPL', 'term': '2020 Summer I', 'grade': 'B-', 'credits': '3.00'}\n",
      "{'course': 'MUSC 145', 'name': 'INTRO TO JAZZ', 'term': '2018 Fall', 'grade': 'B', 'credits': '3.00'}\n",
      "{'course': 'PHYS 118', 'name': 'MECHANICS AND RELATIVITY', 'term': '2020 Spring', 'grade': 'PS', 'credits': '4.00'}\n",
      "{'course': 'PSYC 101', 'name': 'GENERAL PSYCHOLOGY', 'term': '2018 Fall', 'grade': 'BE', 'credits': '3.00'}\n",
      "{'course': 'RELI 104', 'name': 'INTRO TO THE NEW TESTAMENT', 'term': '2020 Summer I', 'grade': 'B', 'credits': '3.00'}\n",
      "{'course': 'SPAN 203', 'name': 'INTERMEDIATE SPANISH I', 'term': '2018 Fall', 'grade': 'PL', 'credits': '0.00'}\n",
      "{'course': 'STOR 151', 'name': 'INTRO TO DATA ANALYSIS', 'term': '2018 Fall', 'grade': 'BE', 'credits': '3.00'}\n",
      "{'course': 'STOR 155', 'name': 'INTRO DATA MODELS &amp; INFERENCE', 'term': '2019 Summer I', 'grade': 'B+', 'credits': '3.00'}\n",
      "{'course': 'STOR 320', 'name': 'DATA SCIENCE', 'term': '2021 Spring', 'grade': 'A', 'credits': '4.00'}\n",
      "{'course': 'STOR 535', 'name': 'PROBABILITY FOR DATA SCIENCE', 'term': '2021 Spring', 'grade': 'PS', 'credits': '3.00'}\n"
     ]
    }
   ],
   "source": [
    "from selenium import webdriver\n",
    "from selenium.webdriver.chrome.options import Options\n",
    "from selenium.common.exceptions import NoSuchElementException\n",
    "from time import sleep\n",
    "\n",
    "USER = 'ENTER_ONYEN_HERE'\n",
    "PASS = 'ENTER_PASSWORD_HERE'\n",
    "\n",
    "options = Options()\n",
    "options.add_argument('--headless')\n",
    "driver = webdriver.Chrome('./chromedriver', options=options)\n",
    "\n",
    "driver.get('https://pa.cc.unc.edu/psp/paprd/EMPLOYEE/EMPL/h/?tab=NC_REDIRECT&amp;TargetPage=PortalHome')\n",
    "sleep(1)\n",
    "\n",
    "user_entry = driver.find_element_by_id('username')\n",
    "pwd_entry = driver.find_element_by_id('password')\n",
    "sign_in = driver.find_element_by_xpath('/html/body/div/div/div/div/form/div[3]/button')\n",
    "# login\n",
    "user_entry.send_keys(USER)\n",
    "pwd_entry.send_keys(PASS)\n",
    "sign_in.click()\n",
    "sleep(1)\n",
    "print('Successfully logged in!')\n",
    "# Navigate to inner iFrame of student center\n",
    "driver.get('https://cs.cc.unc.edu/psc/campus/EMPLOYEE/SA/c/SA_LEARNER_SERVICES.SSS_STUDENT_CENTER.GBL?PortalActualURL=https%3a%2f%2fcs.cc.unc.edu%2fpsc%2fcampus%2fEMPLOYEE%2fSA%2fc%2fSA_LEARNER_SERVICES.SSS_STUDENT_CENTER.GBL&amp;PortalContentURL=https%3a%2f%2fcs.cc.unc.edu%2fpsc%2fcampus%2fEMPLOYEE%2fSA%2fc%2fSA_LEARNER_SERVICES.SSS_STUDENT_CENTER.GBL&amp;PortalContentProvider=SA&amp;PortalCRefLabel=Student%20Center&amp;PortalRegistryName=EMPLOYEE&amp;PortalServletURI=https%3a%2f%2fpa.cc.unc.edu%2fpsp%2fpaprd%2f&amp;PortalURI=https%3a%2f%2fpa.cc.unc.edu%2fpsc%2fpaprd%2f&amp;PortalHostNode=EMPL&amp;NoCrumbs=yes')\n",
    "sleep(1)\n",
    "# Navigate to my academics\n",
    "driver.find_element_by_xpath(\"//*[@id='DERIVED_SSS_SCR_SSS_LINK_ANCHOR4']\").click()\n",
    "sleep(1)\n",
    "# navigate to course history\n",
    "driver.find_element_by_xpath(\"//*[@id='DERIVED_SSSACA2_SSS_ACAD_HISTORY']\").click()\n",
    "sleep(1)\n",
    "# get course information\n",
    "course_table = driver.find_element_by_xpath(\"//*[@id='CRSE_HIST$scroll$0']/tbody/tr/td/table/tbody\")\n",
    "courses = course_table.find_elements_by_css_selector('tr')\n",
    "header = True\n",
    "print(f\"{len(courses)} courses\")\n",
    "courses_list = []\n",
    "count = 0\n",
    "for course in courses:\n",
    "    if header:\n",
    "        header = False\n",
    "        continue\n",
    "    else:\n",
    "        course_dict = {\n",
    "            \"course\" : course.find_element_by_id(f\"CRSE_NAME${count}\").get_attribute('innerHTML'),\n",
    "            \"name\" : course.find_element_by_id(f\"CRSE_LINK${count}\").get_attribute('innerHTML'),\n",
    "            \"term\" : course.find_element_by_id(f\"CRSE_TERM${count}\").get_attribute('innerHTML'),\n",
    "            \"grade\" : course.find_element_by_id(f\"CRSE_GRADE${count}\").get_attribute('innerHTML'),\n",
    "            \"credits\" : course.find_element_by_id(f\"CRSE_UNITS${count}\").get_attribute('innerHTML'),\n",
    "        }\n",
    "        count += 1\n",
    "        courses_list.append(course_dict)\n",
    "        print(course_dict)\n",
    "        \n",
    "        "
   ]
  },
  {
   "cell_type": "code",
   "execution_count": null,
   "metadata": {},
   "outputs": [],
   "source": []
  }
 ]
}